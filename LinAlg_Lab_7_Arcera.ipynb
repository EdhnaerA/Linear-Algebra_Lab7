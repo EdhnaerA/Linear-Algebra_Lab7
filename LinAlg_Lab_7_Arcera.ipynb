{
  "nbformat": 4,
  "nbformat_minor": 0,
  "metadata": {
    "colab": {
      "name": "LinAlg_Lab 7_Arcera.ipynb",
      "provenance": [],
      "authorship_tag": "ABX9TyOWvK2/EwJEMT6plK91uZ/t",
      "include_colab_link": true
    },
    "kernelspec": {
      "name": "python3",
      "display_name": "Python 3"
    },
    "language_info": {
      "name": "python"
    }
  },
  "cells": [
    {
      "cell_type": "markdown",
      "metadata": {
        "id": "view-in-github",
        "colab_type": "text"
      },
      "source": [
        "<a href=\"https://colab.research.google.com/github/EdhnaerA/Linear-Algebra_Lab7/blob/main/LinAlg_Lab_7_Arcera.ipynb\" target=\"_parent\"><img src=\"https://colab.research.google.com/assets/colab-badge.svg\" alt=\"Open In Colab\"/></a>"
      ]
    },
    {
      "cell_type": "markdown",
      "metadata": {
        "id": "2WcvmD64tRqH"
      },
      "source": [
        "# **Arcera, Edhnaer**\n",
        "## Laboratory 7 : Matrix Operations"
      ]
    },
    {
      "cell_type": "markdown",
      "metadata": {
        "id": "z3dvQZs9tk4d"
      },
      "source": [
        "# Task 1\n",
        "Prove and implement the remaining 6 matrix multiplication properties. You may create your own matrices in which their shapes should not be lower than  (3,3) . In your methodology, create individual flowcharts for each property and discuss the property you would then present your proofs or validity of your implementation in the results section by comparing your result to present functions from NumPy"
      ]
    },
    {
      "cell_type": "markdown",
      "metadata": {
        "id": "k5_Xnuw4l6Q-"
      },
      "source": [
        "$$V1 = \\begin{bmatrix}1&7&9\\\\1&3&1\\\\5&1&6\\end{bmatrix}, V2 = \\begin{bmatrix}2&6&9\\\\9&3&5\\\\8&3&6\\end{bmatrix}$$"
      ]
    },
    {
      "cell_type": "markdown",
      "metadata": {
        "id": "5T8RVgjVu-rZ"
      },
      "source": [
        "$$V1 = (V2*V3)=(V1*V2)V3$$"
      ]
    },
    {
      "cell_type": "markdown",
      "metadata": {
        "id": "ntepUZSY3Tgv"
      },
      "source": [
        "$$E*A\\\\ and \\\\ A*P= E*P$$"
      ]
    },
    {
      "cell_type": "code",
      "metadata": {
        "colab": {
          "base_uri": "https://localhost:8080/"
        },
        "id": "GwuTE_Mvs_wF",
        "outputId": "9b50f875-49f8-4fc8-91b7-7d3de1670181"
      },
      "source": [
        "import numpy as np\n",
        "\n",
        "\n",
        "V1 = np.array([[1, 7, 9], [1, 3, 1], [5, 1, 6]])\n",
        "V2 = np.array([[2, 6, 9], [9, 3, 5], [8, 3, 6]])\n",
        "V3 = np.array([[6, 6, 6], [9, 4, 5], [5, 6, 2]])\n",
        "V4 = np.identity(3)\n",
        "V5 = np.zeros([3,3])\n",
        "\n",
        "\n",
        "\n",
        "print(\"Shape of V1: \", V1.shape, \"Shape of V2: \", V2.shape,\"Shape of V3: \",\n",
        "      V3.shape,\"Shape of V4: \", V4.shape,\"Shape of V5: \", V5.shape,)\n",
        "\n",
        "Commutative_Property(V1, V2)\n",
        "Associative_Property(V1, V2, V3)\n",
        "Distributive_Property(V1, V2, V3)\n",
        "Multiplicative_Identity_Property(V1, V4)\n",
        "Multiplicative_Property_of_zero(V1, V5)\n",
        "Dimension_Property(V1,V5)\n",
        "\n",
        "def Commutative(M1, M2):\n",
        "    V1V2 = np.dot(M1, M2)\n",
        "    V2V1 = np.dot(M2, M1)\n",
        "    print(\"Commutative Property\" '\\n')\n",
        "    print(\"V1V2\" '\\n', V1V2)\n",
        "    print(\"V2V1\" '\\n', V2V1)\n",
        "    print(\"~\" *64)\n",
        "\n",
        "def Associative(M1, M2, M3):\n",
        "    V2V3 = np.dot(M2, M3)\n",
        "    V2V3V1 = np.dot(M1, V2V3)\n",
        "    V1V2 = np.dot(M1, M2)\n",
        "    V1V2V3 = np.dot(V1V2, M3)\n",
        "    print(\"Associative Property\" '\\n')\n",
        "    print(\"V1V2V3\" '\\n', V1V2V3)\n",
        "    print(\"V2V3V1\" '\\n', V2V3V1)\n",
        "    print(\"~\" *64)\n",
        "\n",
        "\n",
        "def Distributive(M1, M2, M3):\n",
        "    V2V3 = np.add(M2, M3)\n",
        "    V1V2V3 = np.dot(M1, V2V3)\n",
        "    V1V2 = np.dot(M1, M2)\n",
        "    V1V3 = np.dot(M1, M3)\n",
        "    print(\"Distributive Property\" '\\n')\n",
        "    print(\"V1V2V3\")\n",
        "    print(V1V2V3, '\\n   =\\n', V1V2 + V1V3)\n",
        "\n",
        "    V2V3V1 = np.dot(V2, M1)\n",
        "    V2V1 = np.dot(M2, M1)\n",
        "    V3V1 = np.dot(M3, M1)\n",
        "    print(\"V2V3V1\")\n",
        "    print(V2V3V1, '\\n    =\\n', V2V1 + V3V1)\n",
        "    print(\"~\" *64)\n",
        "\n",
        "\n",
        "def Multiplicative_Identity(M1, MIP):\n",
        "    print(\"Multiplicative Identity Property\" '\\n')\n",
        "    Identity = np.dot(M1, MIP)\n",
        "    print(Identity, '\\n   =\\n', M1)\n",
        "    print(\"~\" *64)\n",
        "\n",
        "\n",
        "def zero(M1, Zero):\n",
        "    print(\"Multiplicative Property of Zero\" '\\n')\n",
        "    Z = np.dot(M1, Zero)\n",
        "    print(Z, '\\n   =\\n', Zero)\n",
        "    print(\"~\" *64)\n",
        "\n",
        "\n",
        "def Dimension(M1, M2):\n",
        "  A = M1.shape[0]\n",
        "  B = M2.shape[1]\n",
        "  print(A, B)\n",
        "\n",
        "\n"
      ],
      "execution_count": 36,
      "outputs": [
        {
          "output_type": "stream",
          "text": [
            "Shape of V1:  (3, 3) Shape of V2:  (3, 3) Shape of V3:  (3, 3) Shape of V4:  (3, 3) Shape of V5:  (3, 3)\n",
            "Commutative Property\n",
            "\n",
            "V1V2\n",
            " [[137  54  98]\n",
            " [ 37  18  30]\n",
            " [ 67  51  86]]\n",
            "V2V1\n",
            " [[ 53  41  78]\n",
            " [ 37  77 114]\n",
            " [ 41  71 111]]\n",
            "~~~~~~~~~~~~~~~~~~~~~~~~~~~~~~~~~~~~~~~~~~~~~~~~~~~~~~~~~~~~~~~~\n",
            "Associative Property\n",
            "\n",
            "V1V2V3\n",
            " [[1798 1626 1288]\n",
            " [ 534  474  372]\n",
            " [1291 1122  829]]\n",
            "V2V3V1\n",
            " [[1798 1626 1288]\n",
            " [ 534  474  372]\n",
            " [1291 1122  829]]\n",
            "~~~~~~~~~~~~~~~~~~~~~~~~~~~~~~~~~~~~~~~~~~~~~~~~~~~~~~~~~~~~~~~~\n",
            "Distributive Property\n",
            "\n",
            "V1V2V3\n",
            "[[251 142 157]\n",
            " [ 75  42  53]\n",
            " [136 121 133]] \n",
            "   =\n",
            " [[251 142 157]\n",
            " [ 75  42  53]\n",
            " [136 121 133]]\n",
            "V2V3V1\n",
            "[[ 53  41  78]\n",
            " [ 37  77 114]\n",
            " [ 41  71 111]] \n",
            "    =\n",
            " [[ 95 107 174]\n",
            " [ 75 157 229]\n",
            " [ 62 126 174]]\n",
            "~~~~~~~~~~~~~~~~~~~~~~~~~~~~~~~~~~~~~~~~~~~~~~~~~~~~~~~~~~~~~~~~\n",
            "Multiplicative Identity Property\n",
            "\n",
            "[[1. 7. 9.]\n",
            " [1. 3. 1.]\n",
            " [5. 1. 6.]] \n",
            "   =\n",
            " [[1 7 9]\n",
            " [1 3 1]\n",
            " [5 1 6]]\n",
            "~~~~~~~~~~~~~~~~~~~~~~~~~~~~~~~~~~~~~~~~~~~~~~~~~~~~~~~~~~~~~~~~\n",
            "Multiplicative Property of Zero\n",
            "\n",
            "[[0. 0. 0.]\n",
            " [0. 0. 0.]\n",
            " [0. 0. 0.]] \n",
            "   =\n",
            " [[0. 0. 0.]\n",
            " [0. 0. 0.]\n",
            " [0. 0. 0.]]\n",
            "~~~~~~~~~~~~~~~~~~~~~~~~~~~~~~~~~~~~~~~~~~~~~~~~~~~~~~~~~~~~~~~~\n",
            "3 3\n"
          ],
          "name": "stdout"
        }
      ]
    }
  ]
}